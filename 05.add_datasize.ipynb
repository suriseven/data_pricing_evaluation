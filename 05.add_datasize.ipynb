{
 "cells": [
  {
   "cell_type": "code",
   "execution_count": null,
   "id": "c1bd8ec5",
   "metadata": {},
   "outputs": [],
   "source": [
    "import numpy as np\n",
    "import pandas as pd\n",
    "\n",
    "\n",
    "df = pd.read_csv('KDX+국가교통데이터오픈마켓+해양수산_20250731.csv')\n",
    "\n",
    "df['price'] = df['price'].str.replace('가격협의', '-2')\n",
    "df['price'] = df['price'].str.replace('(1개월단위)', '')\n",
    "df['price'] = df['price'].str.split('~').str[0]\n",
    "df['price'] = df['price'].fillna('-1')\n",
    "df['price'] = df['price'].astype(np.int64)\n",
    "\n",
    "df"
   ]
  },
  {
   "cell_type": "code",
   "execution_count": null,
   "id": "2187f798",
   "metadata": {},
   "outputs": [],
   "source": [
    "df['data_size'] = '-'"
   ]
  },
  {
   "cell_type": "code",
   "execution_count": null,
   "id": "644c6be8",
   "metadata": {},
   "outputs": [],
   "source": [
    "import os\n",
    "from bs4 import BeautifulSoup\n",
    "\n",
    "base_dir = 'KDX'\n",
    "i = 0\n",
    "for root, dirs, files in os.walk(base_dir):\n",
    "    for filename in files:\n",
    "        file_path = os.path.join(root, filename)\n",
    "        with open(file_path, 'r') as f:\n",
    "            html = f.read()\n",
    "        soup = BeautifulSoup(html, 'html.parser')\n",
    "\n",
    "        row = soup.find('th', string='용량')\n",
    "        if row:\n",
    "            data_size = row.find_next_sibling('td').get_text(strip=True)\n",
    "            print(i, file_path, data_size)\n",
    "            df.loc[df['filename'] == filename, 'data_size'] = data_size\n",
    "            i += 1"
   ]
  },
  {
   "cell_type": "code",
   "execution_count": null,
   "id": "9c0a233e",
   "metadata": {},
   "outputs": [],
   "source": [
    "df.to_csv('KDX+국가교통데이터오픈마켓+해양수산_20250806.csv', index=False)"
   ]
  },
  {
   "cell_type": "code",
   "execution_count": null,
   "id": "15c8f0b1",
   "metadata": {},
   "outputs": [],
   "source": [
    "import pandas as pd\n",
    "\n",
    "df = pd.read_csv('KDX+국가교통데이터오픈마켓+해양수산_20250806.csv')\n",
    "\n",
    "df"
   ]
  },
  {
   "cell_type": "code",
   "execution_count": null,
   "id": "bc25749e",
   "metadata": {},
   "outputs": [],
   "source": [
    "df[df['source'] == 'bigdata-transportation']"
   ]
  },
  {
   "cell_type": "code",
   "execution_count": null,
   "id": "38c73aa3",
   "metadata": {},
   "outputs": [],
   "source": [
    "import os\n",
    "from bs4 import BeautifulSoup\n",
    "\n",
    "base_dir = '/home/ubuntu/data_value/bigdata-transportation-html'\n",
    "\n",
    "i = 0\n",
    "for root, dirs, files in os.walk(base_dir):\n",
    "    for filename in files:\n",
    "        file_path = os.path.join(root, filename)\n",
    "        with open(file_path, 'r') as f:\n",
    "            html = f.read()\n",
    "        soup = BeautifulSoup(html, 'html.parser')\n",
    "        \n",
    "        if soup:\n",
    "            try:\n",
    "                data_size = soup.find('td', id='file-size').get_text(strip=True)\n",
    "            except Exception as e:\n",
    "                data_size = '-2'\n",
    "            if data_size == '':\n",
    "                data_size = '-1'\n",
    "            \n",
    "            print(i, file_path, data_size)\n",
    "            df.loc[df['filename'] == f'definition_{filename.split('.')[0]}.xlsx', 'data_size'] = data_size\n",
    "            i += 1"
   ]
  },
  {
   "cell_type": "code",
   "execution_count": null,
   "id": "114c0a55",
   "metadata": {},
   "outputs": [],
   "source": [
    "df.to_csv('KDX+국가교통데이터오픈마켓+해양수산_20250806_2.csv', index=False)"
   ]
  },
  {
   "cell_type": "code",
   "execution_count": null,
   "id": "7afe6ee3",
   "metadata": {},
   "outputs": [],
   "source": [
    "import pandas as pd\n",
    "import re\n",
    "\n",
    "df = pd.read_csv('KDX+국가교통데이터오픈마켓+해양수산_20250806_4.csv', dtype=str)\n",
    "\n",
    "# 1. 변환 함수\n",
    "def to_bytes(text):\n",
    "    if not isinstance(text, str):\n",
    "        return None\n",
    "\n",
    "    text = text.replace(',', '').strip().upper()\n",
    "\n",
    "    multiplier = 1\n",
    "    if 'KB' in text:\n",
    "        multiplier = 1024\n",
    "        text = text.replace('KB', '')\n",
    "    elif 'MB' in text:\n",
    "        multiplier = 1024 * 1024\n",
    "        text = text.replace('MB', '')\n",
    "    elif 'GB' in text:\n",
    "        multiplier = 1024 * 1024 * 1024\n",
    "        text = text.replace('GB', '')\n",
    "\n",
    "    match = re.search(r'[\\d.]+', text)\n",
    "    if not match:\n",
    "        return None\n",
    "\n",
    "    value = float(match.group(0))\n",
    "    return int(value * multiplier)\n",
    "\n",
    "# 3. 변환 적용\n",
    "df['data_size_bytes'] = df['data_size'].apply(to_bytes)\n",
    "\n",
    "# 4. 결과 확인\n",
    "df\n"
   ]
  },
  {
   "cell_type": "code",
   "execution_count": null,
   "id": "dc85e64d",
   "metadata": {},
   "outputs": [],
   "source": [
    "df.to_csv('KDX+국가교통데이터오픈마켓+해양수산_20250806_5.csv', index=False)"
   ]
  }
 ],
 "metadata": {
  "kernelspec": {
   "display_name": "aop",
   "language": "python",
   "name": "python3"
  },
  "language_info": {
   "codemirror_mode": {
    "name": "ipython",
    "version": 3
   },
   "file_extension": ".py",
   "mimetype": "text/x-python",
   "name": "python",
   "nbconvert_exporter": "python",
   "pygments_lexer": "ipython3",
   "version": "3.12.11"
  }
 },
 "nbformat": 4,
 "nbformat_minor": 5
}
